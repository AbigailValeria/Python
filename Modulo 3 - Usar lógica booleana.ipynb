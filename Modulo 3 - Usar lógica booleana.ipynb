{
 "cells": [
  {
   "cell_type": "markdown",
   "metadata": {},
   "source": [
    "## Módulo 3 - Usar lógica booleana"
   ]
  },
  {
   "cell_type": "markdown",
   "metadata": {},
   "source": [
    "Expresiones de prueba"
   ]
  },
  {
   "cell_type": "code",
   "execution_count": 1,
   "metadata": {},
   "outputs": [],
   "source": [
    "a = 97\n",
    "b = 55\n",
    "# A continuación la expesión de prueba\n",
    "if a < b:\n",
    "   print(b)\n",
    "\n",
    "#No se ejecuta ningún código ya que 'a' NO ES menor que 'b', por lo tanto el resultado de la condición es FALSO"
   ]
  },
  {
   "cell_type": "markdown",
   "metadata": {},
   "source": [
    "Declaraciones if"
   ]
  },
  {
   "cell_type": "code",
   "execution_count": 2,
   "metadata": {},
   "outputs": [
    {
     "name": "stdout",
     "output_type": "stream",
     "text": [
      "93\n"
     ]
    }
   ],
   "source": [
    "a = 93\n",
    "b = 27\n",
    "if a >= b:\n",
    "   print(a)\n",
    "\n",
    "#En este caso el resultado de la condición es TRUE or por lo que se ejecutara el PRINT"
   ]
  },
  {
   "cell_type": "markdown",
   "metadata": {},
   "source": [
    "Tips de la práctica 1 y 2"
   ]
  },
  {
   "cell_type": "code",
   "execution_count": 3,
   "metadata": {},
   "outputs": [
    {
     "name": "stdout",
     "output_type": "stream",
     "text": [
      "44\n"
     ]
    }
   ],
   "source": [
    "a = 24\n",
    "b = 44\n",
    "#Condición\n",
    "if a <= 0:\n",
    "   print(a)\n",
    "   #Esta condición resulta en FALSE, por lo que no se ejecutara el print(a)\n",
    "\n",
    "print(b)\n",
    "# Esta última línea de código esta fuera del if, debido a que no tiene sangría, por lo que es independiente de la condición y se ejecutara\n"
   ]
  },
  {
   "cell_type": "markdown",
   "metadata": {},
   "source": [
    "Trabajando con else"
   ]
  },
  {
   "cell_type": "code",
   "execution_count": 4,
   "metadata": {},
   "outputs": [
    {
     "name": "stdout",
     "output_type": "stream",
     "text": [
      "93\n"
     ]
    }
   ],
   "source": [
    "a = 93\n",
    "b = 27\n",
    "#Condición \n",
    "if a >= b:\n",
    "   print(a)\n",
    "   #La condición resulta en TRUE\n",
    "else:\n",
    "   #Daremos opciones en caso de que la condición anterior fuera FALSE\n",
    "   #La opción será imprimir 'b'\n",
    "   print(b)\n",
    "\n",
    "#En este caso como la condición es TRUE se imprimirá 'a'"
   ]
  },
  {
   "cell_type": "markdown",
   "metadata": {},
   "source": [
    "Trabajando con elif"
   ]
  },
  {
   "cell_type": "code",
   "execution_count": 5,
   "metadata": {},
   "outputs": [
    {
     "name": "stdout",
     "output_type": "stream",
     "text": [
      " a es mayor o igual que b\n"
     ]
    }
   ],
   "source": [
    "a = 93\n",
    "b = 27\n",
    "if a >= b:\n",
    "   print(\" a es mayor o igual que b\")\n",
    "elif a == b:\n",
    "   print(\" a es igual que b\")\n",
    "\n",
    "# Nota: Si la primera condición no se cumple, se pasa a probar la segunda condición, si la segunda tampoco se cumpliera no se lleva a cabo ninguna acción\n",
    "# En este caso la primera condición resulta en TRUE\n",
    "# Por lo tanto ya no se pasa a probar la segunda condición y se imprime \"a es mayor o igual que b\" "
   ]
  },
  {
   "cell_type": "markdown",
   "metadata": {},
   "source": [
    "Combinar declaraciones if, elif, else"
   ]
  },
  {
   "cell_type": "code",
   "execution_count": 6,
   "metadata": {},
   "outputs": [
    {
     "name": "stdout",
     "output_type": "stream",
     "text": [
      "a es mayor que b\n"
     ]
    }
   ],
   "source": [
    "a = 93\n",
    "b = 27\n",
    "#Condición \n",
    "if a > b:\n",
    "   print(\"a es mayor que b\")\n",
    "   #La condición es TRUE por lo que se ejecuta solo este print\n",
    "elif a < b:\n",
    "   print(\"a es menor que b\")\n",
    "else:\n",
    "   print(\"a es igual que b\")"
   ]
  },
  {
   "cell_type": "markdown",
   "metadata": {},
   "source": [
    "Trabajar con lógica condicional anidada"
   ]
  },
  {
   "cell_type": "code",
   "execution_count": 7,
   "metadata": {},
   "outputs": [
    {
     "name": "stdout",
     "output_type": "stream",
     "text": [
      "a es menor que b\n"
     ]
    }
   ],
   "source": [
    "a = 16\n",
    "b = 25\n",
    "c = 27\n",
    "\n",
    "#Condición 1\n",
    "if a > b:\n",
    "   #Si la condición anterior fuera TRUE se pasa al siguiente ciclo: \n",
    "   #Sin embargo, en este caso no pasa porque esta primera condición es FALSE\n",
    "   if b > c:\n",
    "      print(\"a es mayor que b y b es mayor que c\")\n",
    "   else:\n",
    "      print(\"a es mayor que b y menor que c\")\n",
    "#Como la condición uno es FALSE el programa pasa a la segunda condición\n",
    "#Condición 2\n",
    "elif a == b:\n",
    "   print(\"a es igual que b\")\n",
    "#Esta segunda condición también es FALSE por lo que el programa pasa a la siguiente línea de código que es el ELSE\n",
    "else:\n",
    "   #Como ninguna de las condiciones anteriores fue verdadera esta es la opción que se ejecutará\n",
    "   print(\"a es menor que b\")\n",
    "   "
   ]
  },
  {
   "cell_type": "markdown",
   "metadata": {},
   "source": [
    "El operador OR"
   ]
  },
  {
   "cell_type": "code",
   "execution_count": 8,
   "metadata": {},
   "outputs": [
    {
     "name": "stdout",
     "output_type": "stream",
     "text": [
      "57\n"
     ]
    }
   ],
   "source": [
    "a = 23\n",
    "b = 34\n",
    "# La siguiente expresión es TRUE si la condición 1 es TRUE o si la condición 2 es TRUE\n",
    "if a == 34 or b == 34:\n",
    "   #Condición 1 ¿a es igual a 34? NO\n",
    "   #Condición 2 ¿b es igual a 34? YES\n",
    "   #Por lo tanto todo la expresión resulta en TRUE y se ejecuta el PRINT\n",
    "   print(a+b)"
   ]
  },
  {
   "cell_type": "markdown",
   "metadata": {},
   "source": [
    "El operador AND"
   ]
  },
  {
   "cell_type": "code",
   "execution_count": 9,
   "metadata": {},
   "outputs": [],
   "source": [
    "a = 23\n",
    "b = 34\n",
    "#La siguiente expresión es FALSE, para que sea TRUE ambas condiciones se deben cumplir (ser TRUE)\n",
    "if a == 34 and b == 34:\n",
    "   #Condición 1 ¿a es igual a 34? NO\n",
    "   #Condición 2 ¿b es igual a 34? YES\n",
    "   #Solo 1 condición es verdadera por lo que la expresión completa es FALSE\n",
    "   #Por lo tanto no se procede a ejecutar el PRINT\n",
    "   print(a+b)"
   ]
  }
 ],
 "metadata": {
  "interpreter": {
   "hash": "9bf2ca0f4a7adc3ce2f237ca763c1538d3ef289a4e7face3612a01cdae9f6807"
  },
  "kernelspec": {
   "display_name": "Python 3.10.2 64-bit",
   "language": "python",
   "name": "python3"
  },
  "language_info": {
   "codemirror_mode": {
    "name": "ipython",
    "version": 3
   },
   "file_extension": ".py",
   "mimetype": "text/x-python",
   "name": "python",
   "nbconvert_exporter": "python",
   "pygments_lexer": "ipython3",
   "version": "3.10.2"
  },
  "orig_nbformat": 4
 },
 "nbformat": 4,
 "nbformat_minor": 2
}
