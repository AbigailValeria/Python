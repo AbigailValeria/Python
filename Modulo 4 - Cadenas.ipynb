{
 "cells": [
  {
   "cell_type": "markdown",
   "metadata": {},
   "source": [
    "## Módulo 4 - Cadenas"
   ]
  },
  {
   "cell_type": "markdown",
   "metadata": {},
   "source": [
    "Inmutabilidad de las cadenas\n",
    "Las operaciones en cadenas siempre producen nuevas cadenas"
   ]
  },
  {
   "cell_type": "code",
   "execution_count": 9,
   "metadata": {},
   "outputs": [
    {
     "data": {
      "text/plain": [
       "'The moon has no atmosphere. No sound can be heard on the Moon'"
      ]
     },
     "execution_count": 9,
     "metadata": {},
     "output_type": "execute_result"
    }
   ],
   "source": [
    "fact = \"The moon has no atmosphere. \"\n",
    "fact + \"No sound can be heard on the Moon\""
   ]
  },
  {
   "cell_type": "code",
   "execution_count": 10,
   "metadata": {},
   "outputs": [
    {
     "data": {
      "text/plain": [
       "'The moon has no atmosphere. '"
      ]
     },
     "execution_count": 10,
     "metadata": {},
     "output_type": "execute_result"
    }
   ],
   "source": [
    "fact"
   ]
  },
  {
   "cell_type": "code",
   "execution_count": 11,
   "metadata": {},
   "outputs": [
    {
     "data": {
      "text/plain": [
       "'The moon has no atmosphere. No sound can be heard on the Moon'"
      ]
     },
     "execution_count": 11,
     "metadata": {},
     "output_type": "execute_result"
    }
   ],
   "source": [
    "two_facts = fact + \"No sound can be heard on the Moon\"\n",
    "two_facts"
   ]
  },
  {
   "cell_type": "markdown",
   "metadata": {},
   "source": [
    "Uso de comillas"
   ]
  },
  {
   "cell_type": "code",
   "execution_count": 17,
   "metadata": {},
   "outputs": [
    {
     "name": "stdout",
     "output_type": "stream",
     "text": [
      "The \"near side\" is the part of the Moon that faces the Earth\n",
      "We only see about 60% of the Moon's surface\n",
      "We only see about 60% of the Moon's surface, this is known as the \"near side\" \n"
     ]
    }
   ],
   "source": [
    "# Se puede utilizar comillas dobles, simples o triples indistintamente.\n",
    "# Importante tomar en cuenta: \"Cuando una cadena coniene palabras, números o caracteres especiales (una subcadena) que también usa comillas, estás deben der de un estilo diferente para que el interprete de python no lo considere error\"\n",
    "\n",
    "#EJEMPLO 1\n",
    "ejemplo_1 = 'The \"near side\" is the part of the Moon that faces the Earth'\n",
    "\n",
    "#EJEMPLO 2\n",
    "ejemplo_2 = \"We only see about 60% of the Moon's surface\"\n",
    "\n",
    "# Cuando se utilizan ya dos tipos de comillas, puedes utilizar comillas triples\n",
    "\n",
    "#EJEMPLO 3\n",
    "ejemplo_3 = \"\"\"We only see about 60% of the Moon's surface, this is known as the \"near side\" \"\"\"\n",
    "\n",
    "print(ejemplo_1)\n",
    "print(ejemplo_2)\n",
    "print(ejemplo_3)"
   ]
  },
  {
   "cell_type": "markdown",
   "metadata": {},
   "source": [
    "Texto multilínea"
   ]
  },
  {
   "cell_type": "code",
   "execution_count": 18,
   "metadata": {},
   "outputs": [
    {
     "name": "stdout",
     "output_type": "stream",
     "text": [
      "Facts about the Moon:\n",
      " There is no atmosphere.\n",
      " There is no sound.\n"
     ]
    }
   ],
   "source": [
    "# Usando \\n\n",
    "multiline = \"Facts about the Moon:\\n There is no atmosphere.\\n There is no sound.\"\n",
    "print(multiline)"
   ]
  },
  {
   "cell_type": "code",
   "execution_count": 22,
   "metadata": {},
   "outputs": [
    {
     "name": "stdout",
     "output_type": "stream",
     "text": [
      "Facts about the Moon:\n",
      "     There is no atmosphere.\n",
      "     There is no sound.\n"
     ]
    }
   ],
   "source": [
    " # Usando comillas triples \"\"\"\n",
    " multiline = \"\"\"Facts about the Moon:\n",
    "      There is no atmosphere.\n",
    "      There is no sound.\"\"\"\n",
    "print(multiline)\n"
   ]
  },
  {
   "cell_type": "markdown",
   "metadata": {},
   "source": [
    "Métodos string en Python"
   ]
  },
  {
   "cell_type": "code",
   "execution_count": 23,
   "metadata": {},
   "outputs": [
    {
     "data": {
      "text/plain": [
       "'Temperatura Y Hechos Sobre La Luna'"
      ]
     },
     "execution_count": 23,
     "metadata": {},
     "output_type": "execute_result"
    }
   ],
   "source": [
    "# método .title()\n",
    "\n",
    "#Ejemplo 1\n",
    "\"temperatura y hechos sobre la luna\".title()"
   ]
  },
  {
   "cell_type": "code",
   "execution_count": 24,
   "metadata": {},
   "outputs": [
    {
     "name": "stdout",
     "output_type": "stream",
     "text": [
      "Temperatura Y Hechos Sobre La Luna\n"
     ]
    }
   ],
   "source": [
    "# método .title()\n",
    "\n",
    "#Ejemplo 2\n",
    "heading = \"temperatura y hechos sobre la luna\".title()\n",
    "print(heading)"
   ]
  },
  {
   "cell_type": "markdown",
   "metadata": {},
   "source": [
    "Dividir una cadena"
   ]
  },
  {
   "cell_type": "code",
   "execution_count": 27,
   "metadata": {},
   "outputs": [
    {
     "data": {
      "text/plain": [
       "['Daylight:', '260', 'F', 'Nighttime:', '-280', 'F']"
      ]
     },
     "execution_count": 27,
     "metadata": {},
     "output_type": "execute_result"
    }
   ],
   "source": [
    "#Usando .split()\n",
    "temperatures = '''Daylight: 260 F\n",
    "Nighttime: -280 F'''\n",
    "temperatures .split()"
   ]
  },
  {
   "cell_type": "code",
   "execution_count": 29,
   "metadata": {},
   "outputs": [
    {
     "data": {
      "text/plain": [
       "['Daylight: 260 F', 'Nighttime: -280 F']"
      ]
     },
     "execution_count": 29,
     "metadata": {},
     "output_type": "execute_result"
    }
   ],
   "source": [
    "#Usando .split()\n",
    "temperatures = '''Daylight: 260 F\n",
    "Nighttime: -280 F'''\n",
    "temperatures .split('\\n')"
   ]
  },
  {
   "cell_type": "markdown",
   "metadata": {},
   "source": [
    "## Buscar una cadena"
   ]
  },
  {
   "cell_type": "code",
   "execution_count": 30,
   "metadata": {},
   "outputs": [
    {
     "data": {
      "text/plain": [
       "False"
      ]
     },
     "execution_count": 30,
     "metadata": {},
     "output_type": "execute_result"
    }
   ],
   "source": [
    "#Descubriendo si existe una palabra en específico, un carácter o grupo de caracteres en una cadena SIN usar un método.\n",
    "\n",
    "\"Moon\" in \"This text will describe facts and challenges with space travel\""
   ]
  },
  {
   "cell_type": "code",
   "execution_count": 31,
   "metadata": {},
   "outputs": [
    {
     "data": {
      "text/plain": [
       "True"
      ]
     },
     "execution_count": 31,
     "metadata": {},
     "output_type": "execute_result"
    }
   ],
   "source": [
    "#Descubriendo si existe una palabra en específico, un carácter o grupo de caracteres en una cadena SIN usar un método.\n",
    "\n",
    "\"Moon\" in \"This text will describe facts about the Moon\""
   ]
  },
  {
   "cell_type": "markdown",
   "metadata": {},
   "source": [
    "Forma 1 de encontrar contenido: Para encontrar la posición de una palabra específica en una cadena usar el método .find():"
   ]
  },
  {
   "cell_type": "code",
   "execution_count": 33,
   "metadata": {},
   "outputs": [
    {
     "data": {
      "text/plain": [
       "-1"
      ]
     },
     "execution_count": 33,
     "metadata": {},
     "output_type": "execute_result"
    }
   ],
   "source": [
    "temperatures = \"\"\"Saturn has a daytime temperature of -170 degrees Celsius,\n",
    "while Mars has -28 Celsius.\"\"\"\n",
    "temperatures.find(\"Moon\")\n",
    "\n",
    "#El método find devuelve '-1' cuando no encuentra la palabra\n",
    "#Si el método find encuentra la palabra devuelve el lugar en la cadena en número"
   ]
  },
  {
   "cell_type": "code",
   "execution_count": 34,
   "metadata": {},
   "outputs": [
    {
     "data": {
      "text/plain": [
       "64"
      ]
     },
     "execution_count": 34,
     "metadata": {},
     "output_type": "execute_result"
    }
   ],
   "source": [
    "#Imaginando que buscamos Mars en lugar de Moon\n",
    "\n",
    "temperatures = \"\"\"Saturn has a daytime temperature of -170 degrees Celsius,\n",
    "while Mars has -28 Celsius.\"\"\"\n",
    "temperatures.find(\"Mars\")"
   ]
  },
  {
   "cell_type": "markdown",
   "metadata": {},
   "source": [
    "Forma 2 de encontrar contenido: Si quieres saber el número de veces que aparece una palabra determinada en una cadena utiliza .count()"
   ]
  },
  {
   "cell_type": "code",
   "execution_count": 35,
   "metadata": {},
   "outputs": [
    {
     "data": {
      "text/plain": [
       "1"
      ]
     },
     "execution_count": 35,
     "metadata": {},
     "output_type": "execute_result"
    }
   ],
   "source": [
    "temperatures.count(\"Mars\")"
   ]
  },
  {
   "cell_type": "code",
   "execution_count": 37,
   "metadata": {},
   "outputs": [
    {
     "data": {
      "text/plain": [
       "0"
      ]
     },
     "execution_count": 37,
     "metadata": {},
     "output_type": "execute_result"
    }
   ],
   "source": [
    "temperatures.count(\"Moon\")"
   ]
  },
  {
   "cell_type": "markdown",
   "metadata": {},
   "source": [
    "Mayúsculas y minúsculas"
   ]
  },
  {
   "cell_type": "code",
   "execution_count": 38,
   "metadata": {},
   "outputs": [
    {
     "data": {
      "text/plain": [
       "'the moon and the earth'"
      ]
     },
     "execution_count": 38,
     "metadata": {},
     "output_type": "execute_result"
    }
   ],
   "source": [
    "#Convirtiendo a minúsculas\n",
    "\n",
    "\"The Moon And The Earth\".lower()"
   ]
  },
  {
   "cell_type": "code",
   "execution_count": 39,
   "metadata": {},
   "outputs": [
    {
     "data": {
      "text/plain": [
       "'THE MOON AND THE EARTH'"
      ]
     },
     "execution_count": 39,
     "metadata": {},
     "output_type": "execute_result"
    }
   ],
   "source": [
    "#Convirtiendo a mayúsculas\n",
    "\n",
    "\"The Moon and The Earth\".upper()"
   ]
  },
  {
   "cell_type": "markdown",
   "metadata": {},
   "source": [
    "Comprobar el contenido"
   ]
  },
  {
   "cell_type": "code",
   "execution_count": 40,
   "metadata": {},
   "outputs": [
    {
     "data": {
      "text/plain": [
       "['Mars average temperature', ' -60 °C']"
      ]
     },
     "execution_count": 40,
     "metadata": {},
     "output_type": "execute_result"
    }
   ],
   "source": [
    "# Párrafo estructurado\n",
    "# Extraer información con .split()\n",
    "# Extraeremos la temperatura promedio en Marte\n",
    "\n",
    "temperature = \"Mars average temperature: -60 °C\"\n",
    "extrayendo_temperatura = temperature.split(\":\")\n",
    "extrayendo_temperatura"
   ]
  },
  {
   "cell_type": "code",
   "execution_count": 41,
   "metadata": {},
   "outputs": [
    {
     "data": {
      "text/plain": [
       "' -60 °C'"
      ]
     },
     "execution_count": 41,
     "metadata": {},
     "output_type": "execute_result"
    }
   ],
   "source": [
    "#Pidiendo que nos devuelva el último elemento de la lista\n",
    "extrayendo_temperatura[-1]"
   ]
  },
  {
   "cell_type": "code",
   "execution_count": 42,
   "metadata": {},
   "outputs": [
    {
     "name": "stdout",
     "output_type": "stream",
     "text": [
      "30\n"
     ]
    }
   ],
   "source": [
    "# Párrafo irregular\n",
    "# Iteraremos todos los elementos y comprobaremos si los valores son de tipo numérico\n",
    "# Usaremos el método .isnumeric()\n",
    "\n",
    "mars_temperature = \"The highest temperature on Mars is about 30 °C\"\n",
    "for item in mars_temperature.split():\n",
    "   if item.isnumeric():\n",
    "      print(item)\n",
    "\n",
    "#Si quieres iterar todos los elementos y comprobar si los valores son decimales, ,utiliza el método .isdecimal()\n"
   ]
  },
  {
   "cell_type": "code",
   "execution_count": 1,
   "metadata": {},
   "outputs": [
    {
     "data": {
      "text/plain": [
       "True"
      ]
     },
     "execution_count": 1,
     "metadata": {},
     "output_type": "execute_result"
    }
   ],
   "source": [
    "# Identificar números negativos\n",
    "# .isnumeric() no funcionará si queremos identificar número negativos, ya que el método identifica al '-' antes del número como no númerico. \n",
    "# Lo que podemos hacer es utilizar el método .startswith(), como el guión esta fijado al número negativo, el número negativo siempre comenzara con '-'\n",
    "\n",
    "\"-60\".startswith(\"-\")"
   ]
  },
  {
   "cell_type": "code",
   "execution_count": 2,
   "metadata": {},
   "outputs": [
    {
     "name": "stdout",
     "output_type": "stream",
     "text": [
      "This temperature is in Celsius\n"
     ]
    }
   ],
   "source": [
    "# Verificar el último carácter de una cadena\n",
    "# Utilizamos el método .endswith()\n",
    "\n",
    "if \"30 °C\".endswith(\"C\"):\n",
    "   print(\"This temperature is in Celsius\")"
   ]
  },
  {
   "cell_type": "markdown",
   "metadata": {},
   "source": [
    "Transformar texto"
   ]
  },
  {
   "cell_type": "code",
   "execution_count": 3,
   "metadata": {},
   "outputs": [
    {
     "data": {
      "text/plain": [
       "'Saturn has a daytime temperature of -170 degrees C, while Mars has -28 C.'"
      ]
     },
     "execution_count": 3,
     "metadata": {},
     "output_type": "execute_result"
    }
   ],
   "source": [
    "# Usando el método .replace()\n",
    "# Para buscar y reemplazar apariciones de un carácter o grupo de caracteres\n",
    "\n",
    "\"Saturn has a daytime temperature of -170 degrees Celsius, while Mars has -28 Celsius.\".replace(\"Celsius\", \"C\")"
   ]
  },
  {
   "cell_type": "code",
   "execution_count": 5,
   "metadata": {},
   "outputs": [
    {
     "data": {
      "text/plain": [
       "'Saturn has a daytime temperature of -170 °C, while Mars has -28 °C.'"
      ]
     },
     "execution_count": 5,
     "metadata": {},
     "output_type": "execute_result"
    }
   ],
   "source": [
    "\"Saturn has a daytime temperature of -170 degrees Celsius, while Mars has -28 degrees Celsius.\".replace(\"degrees Celsius\", \"°C\")"
   ]
  },
  {
   "cell_type": "code",
   "execution_count": 6,
   "metadata": {},
   "outputs": [
    {
     "data": {
      "text/plain": [
       "False"
      ]
     },
     "execution_count": 6,
     "metadata": {},
     "output_type": "execute_result"
    }
   ],
   "source": [
    "# Usando el método .lower()\n",
    "text = \"Temperatures on the Moon can vary wildly\"\n",
    "\"temperatures\" in text"
   ]
  },
  {
   "cell_type": "code",
   "execution_count": 7,
   "metadata": {},
   "outputs": [
    {
     "data": {
      "text/plain": [
       "True"
      ]
     },
     "execution_count": 7,
     "metadata": {},
     "output_type": "execute_result"
    }
   ],
   "source": [
    "# Usando el método .lower()\n",
    "\"temperatures\" in text.lower()"
   ]
  },
  {
   "cell_type": "code",
   "execution_count": 6,
   "metadata": {},
   "outputs": [
    {
     "data": {
      "text/plain": [
       "'The Moon is drifting away from the Earth.\\n On average, the Moon is moving about 4cm every year'"
      ]
     },
     "execution_count": 6,
     "metadata": {},
     "output_type": "execute_result"
    }
   ],
   "source": [
    "# Usando el método .join() para unir caracteres\n",
    "# Nota: El método .join() requiere un iterable (como una lista de Python) como argumento, por lo que su uso se ve diferente de otros métodos de cadena\n",
    "\n",
    "moon_facts = ['The Moon is drifting away from the Earth.', ' On average, the Moon is moving about 4cm every year']\n",
    "\"\\n\".join(moon_facts)\n",
    "# El salto de línea \\n en este caso se utiliza para unir todos los elementos de la lista"
   ]
  },
  {
   "cell_type": "markdown",
   "metadata": {},
   "source": [
    "Formato de cadenas de Python"
   ]
  },
  {
   "cell_type": "code",
   "execution_count": 7,
   "metadata": {},
   "outputs": [
    {
     "name": "stdout",
     "output_type": "stream",
     "text": [
      "On the Moon, you would weight about 1/6 of your weight on Earth\n"
     ]
    }
   ],
   "source": [
    "# Formato con signo de porcentaje (%)\n",
    "# Marcador de posición: %s - La variable se pasa al texto añadiendo % variable, fuera de la cadena\n",
    "\n",
    "mass_percentage = \"1/6\"\n",
    "print (\"On the Moon, you would weight about %s of your weight on Earth\" % mass_percentage)"
   ]
  },
  {
   "cell_type": "code",
   "execution_count": 9,
   "metadata": {},
   "outputs": [
    {
     "name": "stdout",
     "output_type": "stream",
     "text": [
      "Both sides of the Moon get the same amount of sunlight,\n",
      "but only one side is seen from Earth because\n",
      "the Moon rotates around its own axis when it orbits Earth.\n"
     ]
    }
   ],
   "source": [
    "# El uso de múltiples valores cambia la sintaxis, ya que requiere paréntesis para rodear las variables que se pasan.\n",
    "print(\"\"\"Both sides of the %s get the same amount of sunlight,\n",
    "but only one side is seen from %s because\n",
    "the %s rotates around its own axis when it orbits %s.\"\"\" % ('Moon', 'Earth', 'Moon', 'Earth'))\n",
    "\n",
    "#No es conveniente usar este método cuando se trata de múltiples variables. Se recomienda usar en su lugar el método .format()"
   ]
  },
  {
   "cell_type": "code",
   "execution_count": 10,
   "metadata": {},
   "outputs": [
    {
     "name": "stdout",
     "output_type": "stream",
     "text": [
      "On the Moon, you would weigh about 1/6 of your weight on Earth\n"
     ]
    }
   ],
   "source": [
    "# Método format\n",
    "# Este método utiliza llaves ({}) como marcadores de posición dentro de una cadena y utiliza la asignación de variables para reemplazar el texto.\n",
    "\n",
    "mass_percentage = '1/6'\n",
    "print('On the Moon, you would weigh about {} of your weight on Earth'.format(mass_percentage))"
   ]
  },
  {
   "cell_type": "code",
   "execution_count": 11,
   "metadata": {},
   "outputs": [
    {
     "name": "stdout",
     "output_type": "stream",
     "text": [
      "You are lighter on the Moon, because on the Moon \n",
      "you would weigh about 1/6 of your weight on Earth\n"
     ]
    }
   ],
   "source": [
    "# Método format\n",
    "# Este método utiliza llaves ({}) como marcadores de posición dentro de una cadena y utiliza la asignación de variables para reemplazar el texto.\n",
    "# No es necesario asignar variables repetidas varias veces\n",
    "\n",
    "print(\"\"\"You are lighter on the {0}, because on the {0} \n",
    "you would weigh about {1} of your weight on Earth\"\"\".format(\"Moon\", mass_percentage))"
   ]
  },
  {
   "cell_type": "code",
   "execution_count": 12,
   "metadata": {},
   "outputs": [
    {
     "name": "stdout",
     "output_type": "stream",
     "text": [
      "You are lighter on the Moon, because on the Moon \n",
      "you would weigh about 1/6 of your weight on Earth\n"
     ]
    }
   ],
   "source": [
    "# Método format\n",
    "# Para mejorar la legibilidad utilizamos palabras de argumento y hacemos referencia a ellas dentro de las llaves\n",
    "\n",
    "print(\"\"\"You are lighter on the {moon}, because on the {moon} \n",
    "you would weigh about {mass} of your weight on Earth\"\"\".format(moon=\"Moon\", mass=mass_percentage))\n"
   ]
  },
  {
   "cell_type": "markdown",
   "metadata": {},
   "source": [
    "Cadenas con f"
   ]
  },
  {
   "cell_type": "code",
   "execution_count": 14,
   "metadata": {},
   "outputs": [
    {
     "name": "stdout",
     "output_type": "stream",
     "text": [
      "On the Moon, you would weigh about 1/6 of your weight on Earth\n"
     ]
    }
   ],
   "source": [
    "# Usando el prefijo f\n",
    "# Las variables van dentro de las llaves y la cadena debe usar el prefijo f\n",
    "# En estos casos las cadenas son menos detalladas, y es posible usar expresiones (funciones u operaciones directas) dentro de las llaves.\n",
    "  \n",
    "print(f'On the Moon, you would weigh about {mass_percentage} of your weight on Earth')"
   ]
  },
  {
   "cell_type": "code",
   "execution_count": 15,
   "metadata": {},
   "outputs": [
    {
     "data": {
      "text/plain": [
       "16.7"
      ]
     },
     "execution_count": 15,
     "metadata": {},
     "output_type": "execute_result"
    }
   ],
   "source": [
    "# Para representar un valor como porcentaje, utilizar rl método .round()\n",
    "\n",
    "round(100/6, 1)"
   ]
  },
  {
   "cell_type": "code",
   "execution_count": 16,
   "metadata": {},
   "outputs": [
    {
     "name": "stdout",
     "output_type": "stream",
     "text": [
      "On the Moon, you would weigh about 16.7% of your weight on Earth\n"
     ]
    }
   ],
   "source": [
    "# Usando el prefijo f y el método .roun()\n",
    "\n",
    "print(f'On the Moon, you would weigh about {round(100/6, 1)}% of your weight on Earth')\n"
   ]
  },
  {
   "cell_type": "code",
   "execution_count": 17,
   "metadata": {},
   "outputs": [
    {
     "data": {
      "text/plain": [
       "'Interesting Facts About The Moon'"
      ]
     },
     "execution_count": 17,
     "metadata": {},
     "output_type": "execute_result"
    }
   ],
   "source": [
    "# Nota: El uso de una expresión, no requiere una llamada a una función.\n",
    "# Por ejemplo: Una cadena podría imponer un estilo de escritura específico para crear un título.\n",
    "\n",
    "subject = 'interesting facts about the moon'\n",
    "f'{subject.title()}'"
   ]
  }
 ],
 "metadata": {
  "interpreter": {
   "hash": "9bf2ca0f4a7adc3ce2f237ca763c1538d3ef289a4e7face3612a01cdae9f6807"
  },
  "kernelspec": {
   "display_name": "Python 3.10.2 64-bit",
   "language": "python",
   "name": "python3"
  },
  "language_info": {
   "codemirror_mode": {
    "name": "ipython",
    "version": 3
   },
   "file_extension": ".py",
   "mimetype": "text/x-python",
   "name": "python",
   "nbconvert_exporter": "python",
   "pygments_lexer": "ipython3",
   "version": "3.10.2"
  },
  "orig_nbformat": 4
 },
 "nbformat": 4,
 "nbformat_minor": 2
}
